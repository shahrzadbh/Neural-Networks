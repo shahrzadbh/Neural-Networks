{
 "cells": [
  {
   "cell_type": "code",
   "execution_count": 1,
   "id": "57892884",
   "metadata": {},
   "outputs": [],
   "source": [
    "import numpy as np"
   ]
  },
  {
   "cell_type": "code",
   "execution_count": 2,
   "id": "a7bacaf5",
   "metadata": {},
   "outputs": [],
   "source": [
    "samples = list()"
   ]
  },
  {
   "cell_type": "code",
   "execution_count": 3,
   "id": "59e638a6",
   "metadata": {},
   "outputs": [],
   "source": [
    "# 1,1\n",
    "s = np.array(\n",
    "[\n",
    "    [1,1,1,1,1,1,1],\n",
    "    [1,0,0,0,0,0,0],\n",
    "    [1,0,0,0,0,0,0],\n",
    "    [1,0,0,0,0,0,0],\n",
    "    [1,1,1,1,1,0,0],\n",
    "    [1,0,0,0,0,0,0],\n",
    "    [1,0,0,0,0,0,0],\n",
    "    [1,0,0,0,0,0,0],\n",
    "    [1,1,1,1,1,1,1]\n",
    "]\n",
    ")\n",
    "samples.append(s.copy().ravel())"
   ]
  },
  {
   "cell_type": "code",
   "execution_count": 4,
   "id": "18a46aea",
   "metadata": {},
   "outputs": [],
   "source": [
    "# 1,2\n",
    "s = np.array(\n",
    "[\n",
    "    [1,1,1,1,1,1,1],\n",
    "    [0,1,0,0,0,0,0],\n",
    "    [0,1,0,0,0,0,0],\n",
    "    [0,1,0,1,0,0,0],\n",
    "    [0,1,1,1,0,0,0],\n",
    "    [0,1,0,1,0,0,0],\n",
    "    [0,1,0,0,0,0,0],\n",
    "    [0,1,0,0,0,0,0],\n",
    "    [1,1,1,1,1,1,1]\n",
    "]\n",
    ")\n",
    "samples.append(s.copy().ravel())"
   ]
  },
  {
   "cell_type": "code",
   "execution_count": 5,
   "id": "39a638a9",
   "metadata": {},
   "outputs": [],
   "source": [
    "# 1,3\n",
    "s = np.array(\n",
    "[\n",
    "    [0,0,0,1,0,0,0],\n",
    "    [0,0,0,1,0,0,0],\n",
    "    [0,0,0,1,0,0,0],\n",
    "    [0,0,1,0,1,0,0],\n",
    "    [0,0,1,0,1,0,0],\n",
    "    [0,1,1,1,1,1,0],\n",
    "    [0,1,0,0,0,1,0],\n",
    "    [0,1,0,0,0,1,0],\n",
    "    [1,1,1,0,1,1,1]\n",
    "]\n",
    ")\n",
    "samples.append(s.copy().ravel())"
   ]
  },
  {
   "cell_type": "code",
   "execution_count": 6,
   "id": "cb1ac8f4",
   "metadata": {},
   "outputs": [],
   "source": [
    "# 1,4\n",
    "s = np.array(\n",
    "[\n",
    "    [0,0,0,1,0,0,0],\n",
    "    [0,0,0,1,0,0,0],\n",
    "    [0,0,1,0,1,0,0],\n",
    "    [0,0,1,0,1,0,0],\n",
    "    [0,1,0,0,0,1,0],\n",
    "    [0,1,1,1,1,1,0],\n",
    "    [1,0,0,0,0,0,1],\n",
    "    [1,0,0,0,0,0,1],\n",
    "    [1,0,0,0,0,0,1]\n",
    "]\n",
    ")\n",
    "samples.append(s.copy().ravel())"
   ]
  },
  {
   "cell_type": "code",
   "execution_count": 7,
   "id": "4a00a8d7",
   "metadata": {},
   "outputs": [],
   "source": [
    "# 2,1\n",
    "s = np.array(\n",
    "[\n",
    "    [1,1,1,1,1,1,1],\n",
    "    [0,1,0,0,0,0,0],\n",
    "    [0,1,0,0,0,0,0],\n",
    "    [0,1,0,1,0,0,0],\n",
    "    [0,1,1,1,0,0,0],\n",
    "    [0,1,0,1,0,0,0],\n",
    "    [0,1,0,0,0,0,0],\n",
    "    [0,1,0,0,0,0,0],\n",
    "    [1,1,1,1,1,1,1]\n",
    "]\n",
    ")\n",
    "samples.append(s.copy().ravel())"
   ]
  },
  {
   "cell_type": "code",
   "execution_count": 8,
   "id": "ca7c9ed1",
   "metadata": {},
   "outputs": [],
   "source": [
    "# 2,2\n",
    "s = np.array(\n",
    "[\n",
    "    [0,0,0,1,0,0,0],\n",
    "    [0,0,0,1,0,0,0],\n",
    "    [0,0,0,1,0,0,0],\n",
    "    [0,0,1,0,1,0,0],\n",
    "    [0,0,1,0,1,0,0],\n",
    "    [0,1,0,0,0,1,0],\n",
    "    [0,1,1,1,1,1,0],\n",
    "    [0,1,0,0,0,1,0],\n",
    "    [0,1,0,0,0,1,0]\n",
    "]\n",
    ")\n",
    "samples.append(s.copy().ravel())"
   ]
  },
  {
   "cell_type": "code",
   "execution_count": 9,
   "id": "345a70e8",
   "metadata": {},
   "outputs": [],
   "source": [
    "# 2,3\n",
    "s = np.array(\n",
    "[\n",
    "    [1,0,0,0,0,1,0],\n",
    "    [1,0,0,0,1,0,0],\n",
    "    [1,0,0,1,0,0,0],\n",
    "    [1,0,1,0,0,0,0],\n",
    "    [1,1,0,0,0,0,0],\n",
    "    [1,0,1,0,0,0,0],\n",
    "    [1,0,0,1,0,0,0],\n",
    "    [1,0,0,0,1,0,0],\n",
    "    [1,0,0,0,0,1,0]\n",
    "]\n",
    ")\n",
    "samples.append(s.copy().ravel())"
   ]
  },
  {
   "cell_type": "code",
   "execution_count": 10,
   "id": "de85a347",
   "metadata": {},
   "outputs": [],
   "source": [
    "# 2,4\n",
    "s = np.array(\n",
    "[\n",
    "    [1,1,1,1,1,1,0],\n",
    "    [0,1,0,0,0,0,1],\n",
    "    [0,1,0,0,0,0,1],\n",
    "    [0,1,0,0,0,0,1],\n",
    "    [0,1,1,1,1,1,0],\n",
    "    [0,1,0,0,0,0,1],\n",
    "    [0,1,0,0,0,0,1],\n",
    "    [0,1,0,0,0,0,1],\n",
    "    [1,1,1,1,1,1,0]\n",
    "]\n",
    ")\n",
    "samples.append(s.copy().ravel())"
   ]
  },
  {
   "cell_type": "code",
   "execution_count": 11,
   "id": "ae4425b3",
   "metadata": {},
   "outputs": [],
   "source": [
    "# 3,1\n",
    "s = np.array(\n",
    "[\n",
    "    [0,0,1,1,1,1,1],\n",
    "    [0,1,0,0,0,0,1],\n",
    "    [1,0,0,0,0,0,0],\n",
    "    [1,0,0,0,0,0,0],\n",
    "    [1,0,0,0,0,0,0],\n",
    "    [1,0,0,0,0,0,0],\n",
    "    [1,0,0,0,0,0,0],\n",
    "    [0,1,0,0,0,0,1],\n",
    "    [0,0,1,1,1,1,1]\n",
    "]\n",
    ")\n",
    "samples.append(s.copy().ravel())"
   ]
  },
  {
   "cell_type": "code",
   "execution_count": 12,
   "id": "18224274",
   "metadata": {},
   "outputs": [],
   "source": [
    "# 3,2\n",
    "s = np.array(\n",
    "[\n",
    "    [1,1,1,1,1,1,0],\n",
    "    [1,0,0,0,0,0,1],\n",
    "    [1,0,0,0,0,0,1],\n",
    "    [1,0,0,0,0,0,1],\n",
    "    [1,1,1,1,1,1,0],\n",
    "    [1,0,0,0,0,0,1],\n",
    "    [1,0,0,0,0,0,1],\n",
    "    [1,0,0,0,0,0,1],\n",
    "    [1,1,1,1,1,1,0]\n",
    "]\n",
    ")\n",
    "samples.append(s.copy().ravel())"
   ]
  },
  {
   "cell_type": "code",
   "execution_count": 13,
   "id": "29a57799",
   "metadata": {},
   "outputs": [],
   "source": [
    "# 3,3\n",
    "s = np.array(\n",
    "[\n",
    "    [0,0,1,1,1,0,0],\n",
    "    [0,1,0,0,0,1,0],\n",
    "    [1,0,0,0,0,0,1],\n",
    "    [1,0,0,0,0,0,0],\n",
    "    [1,0,0,0,0,0,0],\n",
    "    [1,0,0,0,0,0,0],\n",
    "    [1,0,0,0,0,0,1],\n",
    "    [0,1,0,0,0,1,0],\n",
    "    [0,0,1,1,1,0,0]\n",
    "]\n",
    ")\n",
    "samples.append(s.copy().ravel())"
   ]
  },
  {
   "cell_type": "code",
   "execution_count": 14,
   "id": "d7c28ffe",
   "metadata": {},
   "outputs": [],
   "source": [
    "3,4\n",
    "s = np.array(\n",
    "[\n",
    "    [0,0,0,1,1,1,1],\n",
    "    [0,0,0,0,0,1,0],\n",
    "    [0,0,0,0,0,1,0],\n",
    "    [0,0,0,0,0,1,0],\n",
    "    [0,0,0,0,0,1,0],\n",
    "    [0,0,0,0,0,1,0],\n",
    "    [0,0,0,0,0,1,0],\n",
    "    [0,1,0,0,0,1,0],\n",
    "    [0,0,1,1,1,0,0]\n",
    "]\n",
    ")\n",
    "samples.append(s.copy().ravel())"
   ]
  },
  {
   "cell_type": "code",
   "execution_count": 15,
   "id": "fd109067",
   "metadata": {},
   "outputs": [],
   "source": [
    "# 4,1\n",
    "s = np.array(\n",
    "[\n",
    "    [0,0,0,0,0,1,0],\n",
    "    [0,0,0,0,0,1,0],\n",
    "    [0,0,0,0,0,1,0],\n",
    "    [0,0,0,0,0,1,0],\n",
    "    [0,0,0,0,0,1,0],\n",
    "    [0,0,0,0,0,1,0],\n",
    "    [0,1,0,0,0,1,0],\n",
    "    [0,1,0,0,0,1,0],\n",
    "    [0,0,1,1,1,0,0]\n",
    "]\n",
    ")\n",
    "samples.append(s.copy().ravel())"
   ]
  },
  {
   "cell_type": "code",
   "execution_count": 16,
   "id": "b2aaff5c",
   "metadata": {},
   "outputs": [],
   "source": [
    "# 4,2\n",
    "s = np.array(\n",
    "[\n",
    "    [0,0,1,1,1,0,1],\n",
    "    [0,1,0,0,0,1,1],\n",
    "    [1,0,0,0,0,0,1],\n",
    "    [1,0,0,0,0,0,0],\n",
    "    [1,0,0,0,0,0,0],\n",
    "    [1,0,0,0,0,0,0],\n",
    "    [1,0,0,0,0,0,1],\n",
    "    [0,1,0,0,0,1,0],\n",
    "    [0,0,1,1,1,0,0]\n",
    "]\n",
    ")\n",
    "samples.append(s.copy().ravel())"
   ]
  },
  {
   "cell_type": "code",
   "execution_count": 17,
   "id": "d193fbd1",
   "metadata": {},
   "outputs": [],
   "source": [
    "# 4,3\n",
    "s = np.array(\n",
    "[\n",
    "    [0,0,0,0,1,1,1],\n",
    "    [0,0,0,0,0,1,0],\n",
    "    [0,0,0,0,0,1,0],\n",
    "    [0,0,0,0,0,1,0],\n",
    "    [0,0,0,0,0,1,0],\n",
    "    [0,0,0,0,0,1,0],\n",
    "    [0,0,0,0,0,1,0],\n",
    "    [0,1,0,0,0,1,0],\n",
    "    [0,0,1,1,1,0,0]\n",
    "]\n",
    ")\n",
    "samples.append(s.copy().ravel())"
   ]
  },
  {
   "cell_type": "code",
   "execution_count": 18,
   "id": "0e95503f",
   "metadata": {},
   "outputs": [],
   "source": [
    "# 4,4\n",
    "s = np.array(\n",
    "[\n",
    "    [1,1,1,1,1,1,0],\n",
    "    [0,1,0,0,0,0,1],\n",
    "    [0,1,0,0,0,0,1],\n",
    "    [0,1,1,1,1,1,0],\n",
    "    [0,1,0,0,0,0,1],\n",
    "    [0,1,0,0,0,0,1],\n",
    "    [0,1,0,0,0,0,1],\n",
    "    [0,1,0,0,0,0,1],\n",
    "    [1,1,1,1,1,1,0]\n",
    "]\n",
    ")\n",
    "samples.append(s.copy().ravel())"
   ]
  },
  {
   "cell_type": "code",
   "execution_count": 19,
   "id": "642d4415",
   "metadata": {},
   "outputs": [],
   "source": [
    "# 5,1\n",
    "s = np.array(\n",
    "[\n",
    "    [1,1,1,0,0,1,1],\n",
    "    [0,1,0,0,1,0,0],\n",
    "    [0,1,0,1,0,0,0],\n",
    "    [0,1,1,0,0,0,0],\n",
    "    [0,1,1,0,0,0,0],\n",
    "    [0,1,0,1,0,0,0],\n",
    "    [0,1,0,0,1,0,0],\n",
    "    [0,1,0,0,0,1,0],\n",
    "    [1,1,1,0,0,1,1]\n",
    "]\n",
    ")\n",
    "samples.append(s.copy().ravel())"
   ]
  },
  {
   "cell_type": "code",
   "execution_count": 20,
   "id": "6ee36424",
   "metadata": {},
   "outputs": [],
   "source": [
    "# 5,2\n",
    "s = np.array(\n",
    "[\n",
    "    [1,1,1,0,0,1,1],\n",
    "    [0,1,0,0,0,1,0],\n",
    "    [0,1,0,0,1,0,0],\n",
    "    [0,1,0,1,0,0,0],\n",
    "    [0,1,1,0,0,0,0],\n",
    "    [0,1,0,1,0,0,0],\n",
    "    [0,1,0,0,1,0,0],\n",
    "    [0,1,0,0,0,1,0],\n",
    "    [1,1,1,0,0,1,1]\n",
    "]\n",
    ")\n",
    "samples.append(s.copy().ravel())"
   ]
  },
  {
   "cell_type": "code",
   "execution_count": 21,
   "id": "e12a1315",
   "metadata": {},
   "outputs": [],
   "source": [
    "t_sample = list()"
   ]
  },
  {
   "cell_type": "code",
   "execution_count": 22,
   "id": "ad47618b",
   "metadata": {},
   "outputs": [],
   "source": [
    "s = np.array(\n",
    "[\n",
    "    [1,1,1,1,1,0,0],\n",
    "    [1,0,0,0,0,1,0],\n",
    "    [1,0,0,0,0,0,1],\n",
    "    [1,0,0,0,0,0,1],\n",
    "    [1,0,0,0,0,0,1],\n",
    "    [1,0,0,0,0,0,1],\n",
    "    [1,0,0,0,0,0,1],\n",
    "    [1,0,0,0,0,1,0],\n",
    "    [1,1,1,1,1,0,0]\n",
    "]\n",
    ")\n",
    "t_sample.append(s.copy().ravel())"
   ]
  },
  {
   "cell_type": "code",
   "execution_count": 23,
   "id": "88cab1c9",
   "metadata": {},
   "outputs": [],
   "source": [
    "s = np.array(\n",
    "[\n",
    "    [1,1,1,1,1,0,0],\n",
    "    [0,1,0,0,0,1,0],\n",
    "    [0,1,0,0,0,0,1],\n",
    "    [0,1,0,0,0,0,1],\n",
    "    [0,1,0,0,0,0,1],\n",
    "    [0,1,0,0,0,0,1],\n",
    "    [0,1,0,0,0,0,1],\n",
    "    [0,1,0,0,0,1,0],\n",
    "    [1,1,1,1,1,0,0]\n",
    "]\n",
    ")\n",
    "t_sample.append(s.copy().ravel())"
   ]
  },
  {
   "cell_type": "code",
   "execution_count": 24,
   "id": "570009e2",
   "metadata": {},
   "outputs": [],
   "source": [
    "def norm2(X):\n",
    "    \"\"\"This function get a vector calculate the norm 2 of it\"\"\"\n",
    "    return np.sqrt(np.sum(X**2))"
   ]
  },
  {
   "cell_type": "code",
   "execution_count": 25,
   "id": "08c44681",
   "metadata": {},
   "outputs": [],
   "source": [
    "def find_best_match(x,W):\n",
    "    \"\"\"This function get a sample and\n",
    "    all Weights and find nearest Weight\n",
    "    to the sample\"\"\"\n",
    "    norms = list()\n",
    "    for w in W:\n",
    "        norms.append(norm2(x-w))\n",
    "    return np.argmin(norms)"
   ]
  },
  {
   "cell_type": "code",
   "execution_count": 26,
   "id": "97f0efc5",
   "metadata": {},
   "outputs": [],
   "source": [
    "def update_w(x,W,winner_idx,alpha):\n",
    "    \"\"\"This method get a sample, all Weights, best_match index\n",
    "    ,and alpha and update the winner weight\"\"\"\n",
    "    delta_w = alpha * (x - W[winner_idx])\n",
    "    W[winner_idx] = W[winner_idx] + delta_w\n",
    "    return W"
   ]
  },
  {
   "cell_type": "code",
   "execution_count": 27,
   "id": "94c33464",
   "metadata": {},
   "outputs": [],
   "source": [
    "# initialize weights\n",
    "# I assume a pattern with 6 neurons or my pattern shape is 1x6\n",
    "neurons_count = 6\n",
    "input_shape = samples[0].shape[0]\n",
    "W = list()\n",
    "for i in range(neurons_count):\n",
    "#     initial weights with normal distribution with mean=0 and sigma=1\n",
    "    W.append(np.random.normal(0,1,input_shape))\n"
   ]
  },
  {
   "cell_type": "code",
   "execution_count": 28,
   "id": "53465056",
   "metadata": {},
   "outputs": [],
   "source": [
    "# using 3 epoc for training\n",
    "for epoc in range(3):\n",
    "    for x in samples:\n",
    "        best_match_idx = find_best_match(x,W)\n",
    "        W = update_w(x,W,best_match_idx,0.0001)"
   ]
  },
  {
   "cell_type": "code",
   "execution_count": 29,
   "id": "4243f943",
   "metadata": {},
   "outputs": [
    {
     "name": "stdout",
     "output_type": "stream",
     "text": [
      "0th sample is in 0 cluster\n",
      "1th sample is in 4 cluster\n",
      "2th sample is in 5 cluster\n",
      "3th sample is in 1 cluster\n",
      "4th sample is in 4 cluster\n",
      "5th sample is in 5 cluster\n",
      "6th sample is in 5 cluster\n",
      "7th sample is in 4 cluster\n",
      "8th sample is in 5 cluster\n",
      "9th sample is in 5 cluster\n",
      "10th sample is in 5 cluster\n",
      "11th sample is in 0 cluster\n",
      "12th sample is in 0 cluster\n",
      "13th sample is in 5 cluster\n",
      "14th sample is in 0 cluster\n",
      "15th sample is in 4 cluster\n",
      "16th sample is in 5 cluster\n",
      "17th sample is in 5 cluster\n"
     ]
    }
   ],
   "source": [
    "# result for part A\n",
    "for i,x in enumerate(samples):\n",
    "    match_idx = find_best_match(x,W)\n",
    "    print(f'{i}th sample is in {match_idx} cluster')"
   ]
  },
  {
   "cell_type": "code",
   "execution_count": 30,
   "id": "b52292d3",
   "metadata": {},
   "outputs": [
    {
     "name": "stdout",
     "output_type": "stream",
     "text": [
      "0th sample is in 5 cluster\n",
      "1th sample is in 4 cluster\n"
     ]
    }
   ],
   "source": [
    "# result for part B\n",
    "for i,x in enumerate(t_sample):\n",
    "    match_idx = find_best_match(x,W)\n",
    "    print(f'{i}th sample is in {match_idx} cluster')"
   ]
  }
 ],
 "metadata": {
  "kernelspec": {
   "display_name": "Python 3",
   "language": "python",
   "name": "python3"
  },
  "language_info": {
   "codemirror_mode": {
    "name": "ipython",
    "version": 3
   },
   "file_extension": ".py",
   "mimetype": "text/x-python",
   "name": "python",
   "nbconvert_exporter": "python",
   "pygments_lexer": "ipython3",
   "version": "3.9.5"
  }
 },
 "nbformat": 4,
 "nbformat_minor": 5
}
