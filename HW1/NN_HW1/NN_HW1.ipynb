{
  "cells": [
    {
      "cell_type": "markdown",
      "metadata": {
        "id": "yvv-XLiPwfLW"
      },
      "source": [
        "## HW1: Train a perceptron model\n",
        "\n",
        "In this homework, you will train a perceptron model with a simple dataset.\n",
        "\n",
        "**Notes:** \n",
        "- When you submit your assignment, the output of every cell should be visible.\n",
        "- You are not eligible to change any parts of the code except the predefined sections.\n",
        "- You can add your implementation only in the predefined sections.\n",
        "\n"
      ]
    },
    {
      "cell_type": "code",
      "execution_count": null,
      "metadata": {
        "id": "JDV5rqoGv9Dd"
      },
      "outputs": [],
      "source": [
        "import numpy as np\n",
        "import matplotlib.pyplot as plt\n",
        "import pandas as pd"
      ]
    },
    {
      "cell_type": "markdown",
      "metadata": {
        "id": "gw3I0lkI_PmX"
      },
      "source": [
        "## Load Dataset"
      ]
    },
    {
      "cell_type": "code",
      "execution_count": null,
      "metadata": {
        "id": "pN3Ybb3-xqPt"
      },
      "outputs": [],
      "source": [
        "################################\n",
        "## Change directory to the folder of the dataset\n",
        "## For example, if the dataset is in NN/HW1 of your google drive, you should use this code in colab:\n",
        "## cd drive/MyDrive/NN/HW1\n",
        "################################"
      ]
    },
    {
      "cell_type": "code",
      "execution_count": null,
      "metadata": {
        "id": "TLEVrHrazk29"
      },
      "outputs": [],
      "source": [
        "cd drive/MyDrive/NN"
      ]
    },
    {
      "cell_type": "code",
      "execution_count": null,
      "metadata": {
        "id": "WswXS9TPzW89"
      },
      "outputs": [],
      "source": [
        "pwd"
      ]
    },
    {
      "cell_type": "code",
      "execution_count": null,
      "metadata": {
        "id": "ckmhddZ4zOSd"
      },
      "outputs": [],
      "source": [
        "## Load the dataset\n",
        "dataset = pd.read_csv(\"dataset.csv\")"
      ]
    },
    {
      "cell_type": "code",
      "execution_count": null,
      "metadata": {
        "id": "Zfg93qtIzzQT"
      },
      "outputs": [],
      "source": [
        "## Dataset info\n",
        "dataset.info()"
      ]
    },
    {
      "cell_type": "code",
      "execution_count": null,
      "metadata": {
        "id": "jixj9QV7z4AH"
      },
      "outputs": [],
      "source": [
        "## See the five first rows of the dataset.\n",
        "dataset.head()"
      ]
    },
    {
      "cell_type": "code",
      "execution_count": null,
      "metadata": {
        "id": "3X_fHonUz-pY"
      },
      "outputs": [],
      "source": [
        "## Plot the dataset\n",
        "X = dataset.drop([\"y\"], axis=1).values\n",
        "y = dataset[\"y\"].values\n",
        "\n",
        "fig = plt.figure(figsize=(10,8))\n",
        "plt.plot(X[:, 0][y == 0], X[:, 1][y == 0], 'r^')\n",
        "plt.plot(X[:, 0][y == 1], X[:, 1][y == 1], 'bs')\n",
        "plt.xlabel(\"feature 1\")\n",
        "plt.ylabel(\"feature 2\")\n",
        "plt.title('Random Classification Data with 2 classes')"
      ]
    },
    {
      "cell_type": "code",
      "execution_count": null,
      "metadata": {
        "id": "_nT9562pv7-m"
      },
      "outputs": [],
      "source": []
    },
    {
      "cell_type": "markdown",
      "metadata": {
        "id": "d5JYkwuO492n"
      },
      "source": [
        "## Implement the algorithm\n",
        "\n",
        "You have two weights and one bias. Let's call them w1 and w2 and b. Your have to code a simple gradient descent algorithm for updating these parameters. "
      ]
    },
    {
      "cell_type": "code",
      "execution_count": null,
      "metadata": {
        "id": "bQW2mLjQ55ol"
      },
      "outputs": [],
      "source": [
        "## Initialization of the parameters.\n",
        "w1 = 0\n",
        "w2 = 0\n",
        "b = 0"
      ]
    },
    {
      "cell_type": "code",
      "execution_count": null,
      "metadata": {
        "id": "XhQM42m5vW0F"
      },
      "outputs": [],
      "source": [
        "def calculate_output(X, w1, w2, b):\n",
        "  ##############################################\n",
        "    ## code here\n",
        "    ## y_out is the output of your neuron.\n",
        "    ## First, you should implement this formula: y_out = w1 * x1 + w2 * x2 + b\n",
        "    ## please be careful to calculate this formula for all of the 500 data\n",
        "    ## Second, you should implement a Unit Step function as an activation function for each element of the y_out\n",
        "    ## the y_out should be an array with a length of 500.\n",
        "  ##############################################\n",
        "  y_out = ....\n",
        "  return y_out"
      ]
    },
    {
      "cell_type": "code",
      "execution_count": null,
      "metadata": {
        "id": "aPFT9uGD6lot"
      },
      "outputs": [],
      "source": [
        "## implement the gradient descent algorithm\n",
        "lr = 0.1\n",
        "num_epochs = 20\n",
        "\n",
        "\n",
        "for i in range(num_epochs):\n",
        "  y_out = calculate_output(X, w1, w2, b)\n",
        "  errors = 0\n",
        "  for j in range(X.shape[0]):\n",
        "    if y[j] != y_out[j] :\n",
        "      errors += 1\n",
        "    ######################################\n",
        "    ## code here\n",
        "    ## implement the code for updating each parameter\n",
        "    ######################################\n",
        "    b = ....\n",
        "    w1 = ....\n",
        "    w2 = ....\n",
        "\n",
        "  print(\"in epoch : \", i, \" errors : \", errors)\n",
        "\n",
        "print(\"w1 : \", w1, \"w2 : \", w2, \"b : \", b)"
      ]
    },
    {
      "cell_type": "code",
      "execution_count": null,
      "metadata": {
        "id": "9D39OpfOM514"
      },
      "outputs": [],
      "source": []
    },
    {
      "cell_type": "code",
      "execution_count": null,
      "metadata": {
        "id": "YBC2LWY2BmDX"
      },
      "outputs": [],
      "source": [
        "## Plot the result\n",
        "x1 = [min(X[:,0]), max(X[:,0])]\n",
        "m = -w1/w2\n",
        "c = -b/w2\n",
        "x2 = np.dot(m, x1) + c\n",
        "    \n",
        "fig = plt.figure(figsize=(10,8))\n",
        "plt.plot(X[:, 0][y==0], X[:, 1][y==0], \"r^\")\n",
        "plt.plot(X[:, 0][y==1], X[:, 1][y==1], \"bs\")\n",
        "plt.xlabel(\"feature 1\")\n",
        "plt.ylabel(\"feature 2\")\n",
        "plt.title('Perceptron Algorithm')\n",
        "plt.plot(x1, x2, 'y-')"
      ]
    },
    {
      "cell_type": "markdown",
      "metadata": {
        "id": "tQtAkETRNltB"
      },
      "source": [
        "## Bonus Section\n",
        "Explain learning rate decay and different methods for that.\n",
        "Also, implement one of the methods of learning decay on the implemented code."
      ]
    },
    {
      "cell_type": "code",
      "execution_count": null,
      "metadata": {
        "id": "YBQlY9_W_5K3"
      },
      "outputs": [],
      "source": []
    },
    {
      "cell_type": "code",
      "execution_count": null,
      "metadata": {
        "id": "MiGPXUKOM2JY"
      },
      "outputs": [],
      "source": []
    }
  ],
  "metadata": {
    "colab": {
      "collapsed_sections": [],
      "name": "NN_HW1.ipynb",
      "provenance": []
    },
    "kernelspec": {
      "display_name": "Python 3",
      "name": "python3"
    },
    "language_info": {
      "name": "python"
    }
  },
  "nbformat": 4,
  "nbformat_minor": 0
}
