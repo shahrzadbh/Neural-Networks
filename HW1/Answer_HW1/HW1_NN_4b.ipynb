{
  "cells": [
    {
      "cell_type": "markdown",
      "metadata": {
        "id": "yvv-XLiPwfLW"
      },
      "source": [
        "## HW1: Train a perceptron model\n",
        "\n",
        "In this homework, you will train a perceptron model with a simple dataset.\n",
        "\n",
        "**Notes:** \n",
        "- When you submit your assignment, the output of every cell should be visible.\n",
        "- You are not eligible to change any parts of the code except the predefined sections.\n",
        "- You can add your implementation only in the predefined sections.\n",
        "\n"
      ]
    },
    {
      "cell_type": "markdown",
      "metadata": {
        "id": "VZJgGiK3jgfR"
      },
      "source": [
        "<font color=”blue”> **An explanation of this section has been added to the text file.**</font>"
      ]
    },
    {
      "cell_type": "code",
      "execution_count": null,
      "metadata": {
        "id": "JDV5rqoGv9Dd"
      },
      "outputs": [],
      "source": [
        "import numpy as np\n",
        "import matplotlib.pyplot as plt\n",
        "import pandas as pd"
      ]
    },
    {
      "cell_type": "markdown",
      "metadata": {
        "id": "gw3I0lkI_PmX"
      },
      "source": [
        "## Load Dataset"
      ]
    },
    {
      "cell_type": "code",
      "execution_count": null,
      "metadata": {
        "id": "pN3Ybb3-xqPt"
      },
      "outputs": [],
      "source": [
        "################################\n",
        "## Change directory to the folder of the dataset\n",
        "## For example, if the dataset is in NN/HW1 of your google drive, you should use this code in colab:\n",
        "## cd drive/MyDrive/NN/HW1\n",
        "################################"
      ]
    },
    {
      "cell_type": "code",
      "execution_count": null,
      "metadata": {
        "id": "TLEVrHrazk29"
      },
      "outputs": [],
      "source": [
        "#cd drive/MyDrive/NN"
      ]
    },
    {
      "cell_type": "code",
      "execution_count": null,
      "metadata": {
        "id": "WswXS9TPzW89"
      },
      "outputs": [],
      "source": [
        "#pwd"
      ]
    },
    {
      "cell_type": "code",
      "execution_count": null,
      "metadata": {
        "id": "ckmhddZ4zOSd"
      },
      "outputs": [],
      "source": [
        "## Load the dataset\n",
        "dataset = pd.read_csv(\"dataset.csv\")"
      ]
    },
    {
      "cell_type": "code",
      "execution_count": null,
      "metadata": {
        "colab": {
          "base_uri": "https://localhost:8080/"
        },
        "id": "Zfg93qtIzzQT",
        "outputId": "7ce94f01-07ae-4757-b2b0-0d3b7776399f"
      },
      "outputs": [
        {
          "name": "stdout",
          "output_type": "stream",
          "text": [
            "<class 'pandas.core.frame.DataFrame'>\n",
            "RangeIndex: 500 entries, 0 to 499\n",
            "Data columns (total 3 columns):\n",
            " #   Column  Non-Null Count  Dtype  \n",
            "---  ------  --------------  -----  \n",
            " 0   x1      500 non-null    float64\n",
            " 1   x2      500 non-null    float64\n",
            " 2   y       500 non-null    int64  \n",
            "dtypes: float64(2), int64(1)\n",
            "memory usage: 11.8 KB\n"
          ]
        }
      ],
      "source": [
        "## Dataset info\n",
        "dataset.info()"
      ]
    },
    {
      "cell_type": "code",
      "execution_count": null,
      "metadata": {
        "colab": {
          "base_uri": "https://localhost:8080/",
          "height": 204
        },
        "id": "jixj9QV7z4AH",
        "outputId": "fbbc9601-b98a-492a-9be5-2633bfd834ce"
      },
      "outputs": [
        {
          "data": {
            "text/html": [
              "<div>\n",
              "<style scoped>\n",
              "    .dataframe tbody tr th:only-of-type {\n",
              "        vertical-align: middle;\n",
              "    }\n",
              "\n",
              "    .dataframe tbody tr th {\n",
              "        vertical-align: top;\n",
              "    }\n",
              "\n",
              "    .dataframe thead th {\n",
              "        text-align: right;\n",
              "    }\n",
              "</style>\n",
              "<table border=\"1\" class=\"dataframe\">\n",
              "  <thead>\n",
              "    <tr style=\"text-align: right;\">\n",
              "      <th></th>\n",
              "      <th>x1</th>\n",
              "      <th>x2</th>\n",
              "      <th>y</th>\n",
              "    </tr>\n",
              "  </thead>\n",
              "  <tbody>\n",
              "    <tr>\n",
              "      <th>0</th>\n",
              "      <td>2.780914</td>\n",
              "      <td>3.649500</td>\n",
              "      <td>0</td>\n",
              "    </tr>\n",
              "    <tr>\n",
              "      <th>1</th>\n",
              "      <td>0.649471</td>\n",
              "      <td>4.428423</td>\n",
              "      <td>0</td>\n",
              "    </tr>\n",
              "    <tr>\n",
              "      <th>2</th>\n",
              "      <td>-3.393311</td>\n",
              "      <td>-1.439415</td>\n",
              "      <td>1</td>\n",
              "    </tr>\n",
              "    <tr>\n",
              "      <th>3</th>\n",
              "      <td>3.007704</td>\n",
              "      <td>2.896864</td>\n",
              "      <td>0</td>\n",
              "    </tr>\n",
              "    <tr>\n",
              "      <th>4</th>\n",
              "      <td>-3.745867</td>\n",
              "      <td>1.894699</td>\n",
              "      <td>1</td>\n",
              "    </tr>\n",
              "  </tbody>\n",
              "</table>\n",
              "</div>"
            ],
            "text/plain": [
              "         x1        x2  y\n",
              "0  2.780914  3.649500  0\n",
              "1  0.649471  4.428423  0\n",
              "2 -3.393311 -1.439415  1\n",
              "3  3.007704  2.896864  0\n",
              "4 -3.745867  1.894699  1"
            ]
          },
          "execution_count": 7,
          "metadata": {},
          "output_type": "execute_result"
        }
      ],
      "source": [
        "## See the five first rows of the dataset.\n",
        "dataset.head()"
      ]
    },
    {
      "cell_type": "code",
      "execution_count": null,
      "metadata": {
        "colab": {
          "base_uri": "https://localhost:8080/",
          "height": 530
        },
        "id": "3X_fHonUz-pY",
        "outputId": "e25d7335-77f6-4d47-9722-143c5729ec0f"
      },
      "outputs": [
        {
          "data": {
            "text/plain": [
              "Text(0.5, 1.0, 'Random Classification Data with 2 classes')"
            ]
          },
          "execution_count": 8,
          "metadata": {},
          "output_type": "execute_result"
        },
        {
          "data": {
            "image/png": "[encoded data removed]",
            "text/plain": [
              "<Figure size 720x576 with 1 Axes>"
            ]
          },
          "metadata": {
            "needs_background": "light"
          },
          "output_type": "display_data"
        }
      ],
      "source": [
        "## Plot the dataset\n",
        "X = dataset.drop([\"y\"], axis=1).values\n",
        "y = dataset[\"y\"].values\n",
        "\n",
        "fig = plt.figure(figsize=(10,8))\n",
        "plt.plot(X[:, 0][y == 0], X[:, 1][y == 0], 'r^')\n",
        "plt.plot(X[:, 0][y == 1], X[:, 1][y == 1], 'bs')\n",
        "plt.xlabel(\"feature 1\")\n",
        "plt.ylabel(\"feature 2\")\n",
        "plt.title('Random Classification Data with 2 classes')"
      ]
    },
    {
      "cell_type": "code",
      "execution_count": null,
      "metadata": {
        "id": "_nT9562pv7-m"
      },
      "outputs": [],
      "source": []
    },
    {
      "cell_type": "markdown",
      "metadata": {
        "id": "d5JYkwuO492n"
      },
      "source": [
        "## Implement the algorithm\n",
        "\n",
        "You have two weights and one bias. Let's call them w1 and w2 and b. Your have to code a simple gradient descent algorithm for updating these parameters. "
      ]
    },
    {
      "cell_type": "code",
      "execution_count": null,
      "metadata": {
        "id": "bQW2mLjQ55ol"
      },
      "outputs": [],
      "source": [
        "## Initialization of the parameters.\n",
        "w1 = 0\n",
        "w2 = 0\n",
        "b = 0"
      ]
    },
    {
      "cell_type": "code",
      "execution_count": null,
      "metadata": {
        "id": "XhQM42m5vW0F"
      },
      "outputs": [],
      "source": [
        "def calculate_output(X, w1, w2, b):\n",
        "  ##############################################\n",
        "    ## code here\n",
        "    ## y_out is the output of your neuron.\n",
        "    ## First, you should implement this formula: y_out = w1 * x1 + w2 * x2 + b\n",
        "    ## please be careful to calculate this formula for all of the 500 data\n",
        "    ## Second, you should implement a Unit Step function as an activation function for each element of the y_out\n",
        "    ## the y_out should be an array with a length of 500.\n",
        "\n",
        "  ##############################################\n",
        "  y_out = ((w1*X[:,0]+w2*X[:,1]+b)>=0)*1\n",
        "  return y_out"
      ]
    },
    {
      "cell_type": "code",
      "execution_count": null,
      "metadata": {
        "colab": {
          "base_uri": "https://localhost:8080/"
        },
        "id": "aPFT9uGD6lot",
        "outputId": "2565390a-b850-4fda-d532-8a96e07aa7a0"
      },
      "outputs": [
        {
          "name": "stdout",
          "output_type": "stream",
          "text": [
            "in epoch :  0  errors :  250\n",
            "in epoch :  1  errors :  93\n",
            "in epoch :  2  errors :  6\n",
            "in epoch :  3  errors :  5\n",
            "in epoch :  4  errors :  4\n",
            "in epoch :  5  errors :  4\n",
            "in epoch :  6  errors :  3\n",
            "in epoch :  7  errors :  3\n",
            "in epoch :  8  errors :  3\n",
            "in epoch :  9  errors :  3\n",
            "in epoch :  10  errors :  3\n",
            "in epoch :  11  errors :  3\n",
            "in epoch :  12  errors :  3\n",
            "in epoch :  13  errors :  2\n",
            "in epoch :  14  errors :  2\n",
            "in epoch :  15  errors :  2\n",
            "in epoch :  16  errors :  2\n",
            "in epoch :  17  errors :  2\n",
            "in epoch :  18  errors :  2\n",
            "in epoch :  19  errors :  2\n",
            "w1 :  -79.3918783365076 w2 :  -73.05256200885528 b :  -10.29999999999998\n"
          ]
        }
      ],
      "source": [
        "## implement the gradient descent algorithm\n",
        "lr = 0.1\n",
        "num_epochs = 20\n",
        "\n",
        "\n",
        "for i in range(num_epochs):\n",
        "  y_out = calculate_output(X, w1, w2, b)\n",
        "  errors = 0\n",
        "  for j in range(X.shape[0]):\n",
        "    if y[j] != y_out[j] :\n",
        "      errors += 1\n",
        "    ######################################\n",
        "    ## code here\n",
        "    ## implement the code for updating each parameter\n",
        "    ######################################\n",
        "    b = b+lr*(y[j]-y_out[j])\n",
        "    w1 = w1+lr*X[j,0]*(y[j]-y_out[j])\n",
        "    w2 = w2+lr*X[j,1]*(y[j]-y_out[j])\n",
        "\n",
        "  print(\"in epoch : \", i, \" errors : \", errors)\n",
        "\n",
        "print(\"w1 : \", w1, \"w2 : \", w2, \"b : \", b)"
      ]
    },
    {
      "cell_type": "code",
      "execution_count": null,
      "metadata": {
        "colab": {
          "base_uri": "https://localhost:8080/",
          "height": 530
        },
        "id": "YBC2LWY2BmDX",
        "outputId": "0d2e90fe-03c7-4f5c-c6d2-659ee9cb6fc0"
      },
      "outputs": [
        {
          "data": {
            "text/plain": [
              "[<matplotlib.lines.Line2D at 0x7fc587294790>]"
            ]
          },
          "execution_count": 62,
          "metadata": {},
          "output_type": "execute_result"
        },
        {
          "data": {
            "image/png": "[encoded data removed]",
            "text/plain": [
              "<Figure size 720x576 with 1 Axes>"
            ]
          },
          "metadata": {
            "needs_background": "light"
          },
          "output_type": "display_data"
        }
      ],
      "source": [
        "## Plot the result\n",
        "x1 = [min(X[:,0]), max(X[:,0])]\n",
        "m = -w1/w2\n",
        "c = -b/w2\n",
        "x2 = np.dot(m, x1) + c\n",
        "    \n",
        "fig = plt.figure(figsize=(10,8))\n",
        "plt.plot(X[:, 0][y==0], X[:, 1][y==0], \"r^\")\n",
        "plt.plot(X[:, 0][y==1], X[:, 1][y==1], \"bs\")\n",
        "plt.xlabel(\"feature 1\")\n",
        "plt.ylabel(\"feature 2\")\n",
        "plt.title('Perceptron Algorithm')\n",
        "plt.plot(x1, x2, 'y-')"
      ]
    },
    {
      "cell_type": "markdown",
      "metadata": {
        "id": "tQtAkETRNltB"
      },
      "source": [
        "## Bonus Section\n",
        "Explain learning rate decay and different methods for that.\n",
        "Also, implement one of the methods of learning decay on the implemented code."
      ]
    },
    {
      "cell_type": "markdown",
      "metadata": {
        "id": "WRDEGCIUiYLs"
      },
      "source": [
        "<font color=”blue”> **An explanation of this section has been added to the text file.**</font>"
      ]
    },
    {
      "cell_type": "code",
      "execution_count": null,
      "metadata": {
        "id": "YBQlY9_W_5K3"
      },
      "outputs": [],
      "source": [
        "## Initialization of the parameters.\n",
        "w1 = 0\n",
        "w2 = 0\n",
        "b = 0"
      ]
    },
    {
      "cell_type": "code",
      "execution_count": null,
      "metadata": {
        "colab": {
          "base_uri": "https://localhost:8080/"
        },
        "id": "MiGPXUKOM2JY",
        "outputId": "6f5df24f-40ff-4a9c-8a21-fa29539b8c4a"
      },
      "outputs": [
        {
          "name": "stdout",
          "output_type": "stream",
          "text": [
            "in epoch :  0  errors :  250 next learning rate: 0.1\n",
            "in epoch :  1  errors :  93 next learning rate: 0.051282051282051294\n",
            "in epoch :  2  errors :  6 next learning rate: 0.03448275862068966\n",
            "in epoch :  3  errors :  6 next learning rate: 0.02597402597402598\n",
            "in epoch :  4  errors :  5 next learning rate: 0.020833333333333336\n",
            "in epoch :  5  errors :  5 next learning rate: 0.017391304347826087\n",
            "in epoch :  6  errors :  5 next learning rate: 0.01492537313432836\n",
            "in epoch :  7  errors :  5 next learning rate: 0.013071895424836603\n",
            "in epoch :  8  errors :  5 next learning rate: 0.011627906976744186\n",
            "in epoch :  9  errors :  5 next learning rate: 0.010471204188481678\n",
            "in epoch :  10  errors :  5 next learning rate: 0.009523809523809525\n",
            "in epoch :  11  errors :  4 next learning rate: 0.008733624454148473\n",
            "in epoch :  12  errors :  4 next learning rate: 0.00806451612903226\n",
            "in epoch :  13  errors :  4 next learning rate: 0.007490636704119851\n",
            "in epoch :  14  errors :  4 next learning rate: 0.006993006993006994\n",
            "in epoch :  15  errors :  4 next learning rate: 0.006557377049180329\n",
            "in epoch :  16  errors :  4 next learning rate: 0.00617283950617284\n",
            "in epoch :  17  errors :  4 next learning rate: 0.005830903790087464\n",
            "in epoch :  18  errors :  4 next learning rate: 0.005524861878453039\n",
            "in epoch :  19  errors :  4 next learning rate: 0.005249343832020997\n",
            "w1 :  -68.15947590293655 w2 :  -86.87918597283529 b :  -14.354369619573589\n"
          ]
        }
      ],
      "source": [
        "## implement the gradient descent algorithm\n",
        "lr = 0.1\n",
        "firstlr=lr\n",
        "decarRate=0.95\n",
        "num_epochs = 20\n",
        "\n",
        "\n",
        "for i in range(num_epochs):\n",
        "  y_out = calculate_output(X, w1, w2, b)\n",
        "  errors = 0\n",
        "  for j in range(X.shape[0]):\n",
        "    if y[j] != y_out[j] :\n",
        "      errors += 1\n",
        "    ######################################\n",
        "    ## code here\n",
        "    ## implement the code for updating each parameter\n",
        "    ######################################\n",
        "    b = b+lr*(y[j]-y_out[j])\n",
        "    w1 = w1+lr*X[j,0]*(y[j]-y_out[j])\n",
        "    w2 = w2+lr*X[j,1]*(y[j]-y_out[j])\n",
        "\n",
        "  lr=(1/(1+decarRate*i))*firstlr\n",
        "  #i is number of epochs\n",
        "  print(\"in epoch : \", i, \" errors : \", errors , \"next learning rate:\", lr)\n",
        "\n",
        "\n",
        "print(\"w1 : \", w1, \"w2 : \", w2, \"b : \", b)"
      ]
    },
    {
      "cell_type": "code",
      "execution_count": null,
      "metadata": {
        "id": "4nxQx4c9kQCY"
      },
      "outputs": [],
      "source": []
    }
  ],
  "metadata": {
    "colab": {
      "collapsed_sections": [],
      "name": "NN_HW1.ipynb",
      "provenance": []
    },
    "kernelspec": {
      "display_name": "Python 3",
      "name": "python3"
    },
    "language_info": {
      "name": "python"
    }
  },
  "nbformat": 4,
  "nbformat_minor": 0
}
