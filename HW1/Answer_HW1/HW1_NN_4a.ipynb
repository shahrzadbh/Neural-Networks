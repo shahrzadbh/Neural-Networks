{
  "nbformat": 4,
  "nbformat_minor": 0,
  "metadata": {
    "colab": {
      "name": "HW1_NN_4a.ipynb",
      "provenance": [],
      "collapsed_sections": []
    },
    "kernelspec": {
      "name": "python3",
      "display_name": "Python 3"
    },
    "language_info": {
      "name": "python"
    }
  },
  "cells": [
    {
      "cell_type": "code",
      "metadata": {
        "colab": {
          "base_uri": "https://localhost:8080/"
        },
        "id": "3LogFiIMJA6Y",
        "outputId": "b9328428-216e-424c-abcc-c43022ffb5da"
      },
      "source": [
        "while True:\n",
        "  skin=input(\"Is the skin color black?\")\n",
        "  if (skin=='yes'):\n",
        "\n",
        "    shoe=input(\"Is the shoe size 43?\")\n",
        "    if (shoe=='yes'):\n",
        "      print(\"3\")\n",
        "      break\n",
        "    elif(shoe=='no'):\n",
        "      shoe=input(\"Is the shoe size 42?\")\n",
        "      if (shoe=='yes'):\n",
        "        height=input(\"Is the height 180?\")\n",
        "        if (height=='yes'):\n",
        "          print(\"1\")\n",
        "          break\n",
        "        elif(height=='no'):\n",
        "          print(\"2\")\n",
        "          break\n",
        "        else:\n",
        "          print(\"please write yes or no.\")\n",
        "          continue\n",
        "\n",
        "\n",
        "      elif(shoe=='no'):\n",
        "        height=input(\"Is the height 180?\")\n",
        "        if (height=='yes'):\n",
        "          print(\"7\")\n",
        "          break\n",
        "        elif(height=='no'):\n",
        "          height=input(\"Is the height 210?\")\n",
        "          if (height=='yes'):\n",
        "            print(\"9\")\n",
        "            break\n",
        "          elif(height=='no'):\n",
        "            print(\"10\")\n",
        "            break\n",
        "          else:\n",
        "            print(\"please write yes or no.\")\n",
        "            continue\n",
        "        else:\n",
        "          print(\"please write yes or no.\")\n",
        "          continue\n",
        "\n",
        "    else:\n",
        "      print(\"please write yes or no.\")\n",
        "      continue\n",
        "  \n",
        "  elif (skin=='no'):\n",
        "    shoe=input(\"Is the shoe size 41?\")\n",
        "    if (shoe=='yes'):\n",
        "      hair=input(\"Is the hair color black?\")\n",
        "      if (hair=='yes'):\n",
        "        print(\"6\")\n",
        "        break\n",
        "      elif (hair=='no'):\n",
        "        print(\"8\")\n",
        "        break\n",
        "      else:\n",
        "        print(\"please write yes or no.\")\n",
        "        continue\n",
        "    elif (shoe=='no'):\n",
        "      hair=input(\"Is the hair color black?\")\n",
        "      if (hair=='yes'):\n",
        "        print(\"4\")\n",
        "        break\n",
        "      elif (hair=='no'):\n",
        "        print(\"5\")\n",
        "        break\n",
        "      else:\n",
        "        print(\"please write yes or no.\")\n",
        "        continue\n",
        "    else:\n",
        "      print(\"please write yes or no.\")\n",
        "      continue\n",
        "  else:\n",
        "    print(\"please write yes or no.\")\n",
        "    continue"
      ],
      "execution_count": 66,
      "outputs": [
        {
          "output_type": "stream",
          "name": "stdout",
          "text": [
            "Is the skin color black?yes\n",
            "Is the shoe size 43?no\n",
            "Is the shoe size 42?yes\n",
            "Is the height 180?no\n",
            "2\n"
          ]
        }
      ]
    }
  ]
}